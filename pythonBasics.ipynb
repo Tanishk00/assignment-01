{
 "cells": [
  {
   "cell_type": "code",
   "execution_count": 1,
   "id": "bf5e63d8-bd38-4d09-8c59-b13f22720730",
   "metadata": {},
   "outputs": [
    {
     "name": "stdout",
     "output_type": "stream",
     "text": [
      "my name is tanishk\n"
     ]
    }
   ],
   "source": [
    "print(\"my name is tanishk\")"
   ]
  },
  {
   "cell_type": "code",
   "execution_count": 2,
   "id": "393cc282-97ba-40ac-a3cf-95489267706a",
   "metadata": {},
   "outputs": [],
   "source": [
    "   a=25"
   ]
  },
  {
   "cell_type": "code",
   "execution_count": 3,
   "id": "4e84f15e-97ab-4b18-8977-ebfff0a628a8",
   "metadata": {},
   "outputs": [],
   "source": [
    "b=55"
   ]
  },
  {
   "cell_type": "code",
   "execution_count": 4,
   "id": "2ae73601-1449-48a7-ba6b-76555f500f1d",
   "metadata": {},
   "outputs": [
    {
     "data": {
      "text/plain": [
       "80"
      ]
     },
     "execution_count": 4,
     "metadata": {},
     "output_type": "execute_result"
    }
   ],
   "source": [
    "a+b"
   ]
  },
  {
   "cell_type": "code",
   "execution_count": 5,
   "id": "39baa396-af5c-4616-bf3d-1da06765f2e2",
   "metadata": {},
   "outputs": [
    {
     "name": "stdout",
     "output_type": "stream",
     "text": [
      "hello\n"
     ]
    }
   ],
   "source": [
    "print (\"hello\")"
   ]
  },
  {
   "cell_type": "code",
   "execution_count": 6,
   "id": "635324e2-9113-4a45-a5c8-d44bf159a1fa",
   "metadata": {},
   "outputs": [],
   "source": [
    "s=\"pwskills\""
   ]
  },
  {
   "cell_type": "code",
   "execution_count": 7,
   "id": "0ced96a8-87c9-4bfe-9c49-92427152d2a4",
   "metadata": {},
   "outputs": [
    {
     "data": {
      "text/plain": [
       "str"
      ]
     },
     "execution_count": 7,
     "metadata": {},
     "output_type": "execute_result"
    }
   ],
   "source": [
    "type(s)"
   ]
  },
  {
   "cell_type": "code",
   "execution_count": 8,
   "id": "8efa4c54-e4c8-4dc7-adbe-40f203320b25",
   "metadata": {},
   "outputs": [
    {
     "data": {
      "text/plain": [
       "'p'"
      ]
     },
     "execution_count": 8,
     "metadata": {},
     "output_type": "execute_result"
    }
   ],
   "source": [
    "s[0]"
   ]
  },
  {
   "cell_type": "code",
   "execution_count": 9,
   "id": "4e1441c0-792f-4b5b-b4f3-3173bda0c0d8",
   "metadata": {},
   "outputs": [
    {
     "data": {
      "text/plain": [
       "'s'"
      ]
     },
     "execution_count": 9,
     "metadata": {},
     "output_type": "execute_result"
    }
   ],
   "source": [
    "s[2]"
   ]
  },
  {
   "cell_type": "code",
   "execution_count": 10,
   "id": "1e5b48cf-f6aa-4490-aaf6-5f0c5e32f2ac",
   "metadata": {},
   "outputs": [
    {
     "data": {
      "text/plain": [
       "'s'"
      ]
     },
     "execution_count": 10,
     "metadata": {},
     "output_type": "execute_result"
    }
   ],
   "source": [
    "s[7]"
   ]
  },
  {
   "cell_type": "code",
   "execution_count": 11,
   "id": "3004fadb-1e03-42aa-b670-785cb0ddb0c1",
   "metadata": {},
   "outputs": [
    {
     "data": {
      "text/plain": [
       "'s'"
      ]
     },
     "execution_count": 11,
     "metadata": {},
     "output_type": "execute_result"
    }
   ],
   "source": [
    "s[-1]\n"
   ]
  },
  {
   "cell_type": "code",
   "execution_count": 12,
   "id": "a9ef5c7b-7c36-4a78-9d3f-215150f20ba5",
   "metadata": {},
   "outputs": [
    {
     "data": {
      "text/plain": [
       "'s'"
      ]
     },
     "execution_count": 12,
     "metadata": {},
     "output_type": "execute_result"
    }
   ],
   "source": [
    "s[-6]"
   ]
  },
  {
   "cell_type": "code",
   "execution_count": 13,
   "id": "36f76061-c106-4d2e-8e88-c9baa20b5bd1",
   "metadata": {},
   "outputs": [
    {
     "data": {
      "text/plain": [
       "'p'"
      ]
     },
     "execution_count": 13,
     "metadata": {},
     "output_type": "execute_result"
    }
   ],
   "source": [
    "s[-8]"
   ]
  },
  {
   "cell_type": "code",
   "execution_count": 14,
   "id": "fb968fae-7a74-4346-bbe6-ca09cbde0b7b",
   "metadata": {},
   "outputs": [
    {
     "data": {
      "text/plain": [
       "'pws'"
      ]
     },
     "execution_count": 14,
     "metadata": {},
     "output_type": "execute_result"
    }
   ],
   "source": [
    "s[0:3]"
   ]
  },
  {
   "cell_type": "code",
   "execution_count": 15,
   "id": "e2c99ac9-5624-4b82-af22-796ffa825b5a",
   "metadata": {},
   "outputs": [
    {
     "data": {
      "text/plain": [
       "'pw'"
      ]
     },
     "execution_count": 15,
     "metadata": {},
     "output_type": "execute_result"
    }
   ],
   "source": [
    "s[0:2]"
   ]
  },
  {
   "cell_type": "code",
   "execution_count": 16,
   "id": "78129185-1eb7-410d-bed5-0c69ee9908fa",
   "metadata": {},
   "outputs": [
    {
     "data": {
      "text/plain": [
       "'pwski'"
      ]
     },
     "execution_count": 16,
     "metadata": {},
     "output_type": "execute_result"
    }
   ],
   "source": [
    "s[0:5]"
   ]
  },
  {
   "cell_type": "code",
   "execution_count": 17,
   "id": "af000175-72b8-43b7-85b2-c1056b6767e1",
   "metadata": {},
   "outputs": [
    {
     "data": {
      "text/plain": [
       "''"
      ]
     },
     "execution_count": 17,
     "metadata": {},
     "output_type": "execute_result"
    }
   ],
   "source": [
    "s[-1:-4]"
   ]
  },
  {
   "cell_type": "code",
   "execution_count": 18,
   "id": "0fa97594-8ea4-46b2-b45a-aa3bad294e9a",
   "metadata": {},
   "outputs": [
    {
     "data": {
      "text/plain": [
       "'psil'"
      ]
     },
     "execution_count": 18,
     "metadata": {},
     "output_type": "execute_result"
    }
   ],
   "source": [
    "s[0:8:2]"
   ]
  },
  {
   "cell_type": "code",
   "execution_count": 19,
   "id": "ff8f1aed-f0fb-4d04-9691-6dc822d07edb",
   "metadata": {},
   "outputs": [
    {
     "data": {
      "text/plain": [
       "'pwski'"
      ]
     },
     "execution_count": 19,
     "metadata": {},
     "output_type": "execute_result"
    }
   ],
   "source": [
    "s[0:5:1]"
   ]
  },
  {
   "cell_type": "code",
   "execution_count": 20,
   "id": "a46ed7f0-3d80-4a1f-89f7-16803fc52770",
   "metadata": {},
   "outputs": [
    {
     "data": {
      "text/plain": [
       "'psil'"
      ]
     },
     "execution_count": 20,
     "metadata": {},
     "output_type": "execute_result"
    }
   ],
   "source": [
    "s[::2]"
   ]
  },
  {
   "cell_type": "code",
   "execution_count": 21,
   "id": "b4c3eb48-4579-4af4-824a-faf1d51424a0",
   "metadata": {},
   "outputs": [
    {
     "data": {
      "text/plain": [
       "'sil'"
      ]
     },
     "execution_count": 21,
     "metadata": {},
     "output_type": "execute_result"
    }
   ],
   "source": [
    "s[2::2]"
   ]
  },
  {
   "cell_type": "code",
   "execution_count": 22,
   "id": "a9c988f4-9f62-49c6-bee0-d85f5b314a72",
   "metadata": {},
   "outputs": [
    {
     "data": {
      "text/plain": [
       "'sllikswp'"
      ]
     },
     "execution_count": 22,
     "metadata": {},
     "output_type": "execute_result"
    }
   ],
   "source": [
    "s[::-1]"
   ]
  },
  {
   "cell_type": "code",
   "execution_count": 23,
   "id": "b6737955-9b61-4b91-a05b-36636e99df0c",
   "metadata": {},
   "outputs": [
    {
     "data": {
      "text/plain": [
       "''"
      ]
     },
     "execution_count": 23,
     "metadata": {},
     "output_type": "execute_result"
    }
   ],
   "source": [
    "s[2:7:-1]"
   ]
  },
  {
   "cell_type": "code",
   "execution_count": null,
   "id": "c6ac4955-37e7-44c9-91be-0f4f67ed1fab",
   "metadata": {},
   "outputs": [],
   "source": [
    "s[8:0]"
   ]
  },
  {
   "cell_type": "code",
   "execution_count": null,
   "id": "db95f044-681a-4a94-aa17-4e0b5db26002",
   "metadata": {},
   "outputs": [],
   "source": [
    "s[8:0:-1]"
   ]
  },
  {
   "cell_type": "code",
   "execution_count": null,
   "id": "26c86a79-1d11-4f67-ae18-704e3297df82",
   "metadata": {},
   "outputs": [],
   "source": [
    "s[-2:-8:-1]"
   ]
  },
  {
   "cell_type": "code",
   "execution_count": null,
   "id": "c85fe46f-9bbc-4aaf-a5e8-4ab234870508",
   "metadata": {},
   "outputs": [],
   "source": [
    "s[-2::-1]"
   ]
  },
  {
   "cell_type": "code",
   "execution_count": null,
   "id": "3c9bfda7-772e-4e30-a05e-e7d7248f09de",
   "metadata": {},
   "outputs": [],
   "source": [
    "s[::-1]"
   ]
  },
  {
   "cell_type": "code",
   "execution_count": null,
   "id": "b784e4cc-073e-4974-a38b-23b244033821",
   "metadata": {},
   "outputs": [],
   "source": [
    "s[8]"
   ]
  },
  {
   "cell_type": "code",
   "execution_count": null,
   "id": "cd3b768e-0626-4d66-a1f6-b2cf0d7721ee",
   "metadata": {},
   "outputs": [],
   "source": [
    " s[::1]"
   ]
  },
  {
   "cell_type": "code",
   "execution_count": null,
   "id": "3bc8078f-1f87-460f-882d-63f3acffd014",
   "metadata": {},
   "outputs": [],
   "source": [
    "s[:-90:]"
   ]
  },
  {
   "cell_type": "code",
   "execution_count": null,
   "id": "a8492a21-e6c0-4d46-b483-2a93f7181f32",
   "metadata": {},
   "outputs": [],
   "source": [
    "s[:-9000:-1]"
   ]
  },
  {
   "cell_type": "code",
   "execution_count": null,
   "id": "92ab7e41-eca1-4851-8414-02964384bf25",
   "metadata": {},
   "outputs": [],
   "source": [
    "c=200"
   ]
  },
  {
   "cell_type": "code",
   "execution_count": null,
   "id": "57e70894-7103-47a4-b77a-5aeccb7a5e97",
   "metadata": {},
   "outputs": [],
   "source": [
    "s1=\"this is my string class\""
   ]
  },
  {
   "cell_type": "code",
   "execution_count": null,
   "id": "43c3ab40-d4a6-4e12-b124-d2916208bdf9",
   "metadata": {},
   "outputs": [],
   "source": [
    "len(s1)"
   ]
  },
  {
   "cell_type": "code",
   "execution_count": null,
   "id": "00c34b78-2a1a-4be5-a94d-fd9b72eeae18",
   "metadata": {},
   "outputs": [],
   "source": [
    "##this is a code to find a character of sub string in string\n",
    "s1.find('s')"
   ]
  },
  {
   "cell_type": "code",
   "execution_count": null,
   "id": "681a9685-5a3e-4ad3-9faf-cdf91fd35655",
   "metadata": {},
   "outputs": [],
   "source": [
    "s1=\"this is my string class\""
   ]
  },
  {
   "cell_type": "code",
   "execution_count": null,
   "id": "e1d4706d-1b1e-4753-a7bc-36c5b86061e2",
   "metadata": {},
   "outputs": [],
   "source": [
    "s1.find('p')"
   ]
  },
  {
   "cell_type": "code",
   "execution_count": null,
   "id": "07aeec19-88b0-4864-96bd-023147ab937d",
   "metadata": {},
   "outputs": [],
   "source": [
    "s1.find(\"is\")"
   ]
  },
  {
   "cell_type": "code",
   "execution_count": null,
   "id": "69aa38d1-992e-4c65-acb8-aff1074a07f7",
   "metadata": {},
   "outputs": [],
   "source": [
    "s1.count(\"s\")"
   ]
  },
  {
   "cell_type": "code",
   "execution_count": null,
   "id": "319e0d73-cf50-4d2b-83b7-52e653bdabbb",
   "metadata": {},
   "outputs": [],
   "source": [
    "s1.count(\"z\")"
   ]
  },
  {
   "cell_type": "code",
   "execution_count": null,
   "id": "6fb2f5ee-77dc-44f4-82c7-40c1522456fa",
   "metadata": {},
   "outputs": [],
   "source": [
    "s1.upper()"
   ]
  },
  {
   "cell_type": "code",
   "execution_count": null,
   "id": "f45348cc-0a18-4f2b-9d7a-49e678c1a6ef",
   "metadata": {},
   "outputs": [],
   "source": [
    "s2=\"THIS IS MY STRING CLASSS\""
   ]
  },
  {
   "cell_type": "code",
   "execution_count": null,
   "id": "925dd7e8-0ff6-4c83-9842-83cfbdf6d89c",
   "metadata": {},
   "outputs": [],
   "source": [
    "s2.lower()"
   ]
  },
  {
   "cell_type": "code",
   "execution_count": null,
   "id": "9362235d-c36d-402e-9d40-75f7d8662703",
   "metadata": {},
   "outputs": [],
   "source": [
    "s1"
   ]
  },
  {
   "cell_type": "code",
   "execution_count": null,
   "id": "0b0cffb6-ebbc-47a3-a788-5c6254a2b551",
   "metadata": {},
   "outputs": [],
   "source": [
    "s1.title()"
   ]
  },
  {
   "cell_type": "code",
   "execution_count": null,
   "id": "1dfe8c3a-78a8-4f25-8f52-9fbeb9cd9bc1",
   "metadata": {},
   "outputs": [],
   "source": [
    "s1.capitalize()"
   ]
  },
  {
   "cell_type": "code",
   "execution_count": null,
   "id": "6aef4f12-45cf-45ba-b4a9-79b36bce236f",
   "metadata": {},
   "outputs": [],
   "source": [
    "s=\"pwskills\""
   ]
  },
  {
   "cell_type": "code",
   "execution_count": null,
   "id": "026dd332-30b3-4d54-a418-503c0ea9042b",
   "metadata": {},
   "outputs": [],
   "source": [
    "s+1"
   ]
  },
  {
   "cell_type": "code",
   "execution_count": null,
   "id": "4fdc0799-3af5-4b46-8ba2-b8901e8134f9",
   "metadata": {},
   "outputs": [],
   "source": [
    "s+\"sudh\""
   ]
  },
  {
   "cell_type": "code",
   "execution_count": null,
   "id": "3d8ef5e3-3951-4a84-80e0-7cb8c11b89c6",
   "metadata": {},
   "outputs": [],
   "source": [
    "s+\"1\""
   ]
  },
  {
   "cell_type": "code",
   "execution_count": null,
   "id": "c65724bf-ed6d-4bea-8163-5a4587e30720",
   "metadata": {},
   "outputs": [],
   "source": [
    "s+str(1)"
   ]
  },
  {
   "cell_type": "code",
   "execution_count": null,
   "id": "2783ef9a-b2ac-4385-a158-d7fb7970d71e",
   "metadata": {},
   "outputs": [],
   "source": [
    "s*3"
   ]
  },
  {
   "cell_type": "code",
   "execution_count": null,
   "id": "51282e05-4d9a-4184-8e65-71e72659957e",
   "metadata": {},
   "outputs": [],
   "source": [
    "'sudh'*4"
   ]
  },
  {
   "cell_type": "code",
   "execution_count": null,
   "id": "57021f4e-13ea-4022-880e-e6a434c50b1d",
   "metadata": {},
   "outputs": [],
   "source": [
    "\"don't do copy and paste in my class\""
   ]
  },
  {
   "cell_type": "code",
   "execution_count": null,
   "id": "aed3be8b-b82d-4228-ab91-036f98a7ecf9",
   "metadata": {},
   "outputs": [],
   "source": [
    "##this is my first class for programming \n",
    "# \"\"\"i have learnt variable , data type , string ,int ,boolean,complex number\n",
    "# i have to do my work properly\"\"\""
   ]
  },
  {
   "cell_type": "code",
   "execution_count": null,
   "id": "83f64523-77d8-4ae5-99eb-9fc36e02c0e4",
   "metadata": {},
   "outputs": [],
   "source": [
    "#hello"
   ]
  },
  {
   "cell_type": "code",
   "execution_count": null,
   "id": "db9416b6-5ccc-443d-b1eb-a61a088185e7",
   "metadata": {},
   "outputs": [],
   "source": [
    "s3=\"\"\"this is my first class for programming \n",
    " i have learnt variable , data type , string ,int ,boolean,complex number\n",
    "i have to do my work properly\"\"\""
   ]
  },
  {
   "cell_type": "code",
   "execution_count": null,
   "id": "600a7c7b-d37b-4698-9faa-d330b6d10943",
   "metadata": {},
   "outputs": [],
   "source": [
    "s3"
   ]
  },
  {
   "cell_type": "code",
   "execution_count": null,
   "id": "44bb67c4-e39b-4a3a-a374-6845b8803d8e",
   "metadata": {},
   "outputs": [],
   "source": [
    "l=[1,245,\"sudh\" , True ,5+7j,345.98]"
   ]
  },
  {
   "cell_type": "code",
   "execution_count": null,
   "id": "fe0d2bbc-e6bf-46c6-a169-ae971449d0de",
   "metadata": {},
   "outputs": [],
   "source": [
    "type(l)"
   ]
  },
  {
   "cell_type": "code",
   "execution_count": null,
   "id": "a1160a41-be58-417c-a2a4-28a40edd8f86",
   "metadata": {},
   "outputs": [],
   "source": [
    "l[0]"
   ]
  },
  {
   "cell_type": "code",
   "execution_count": null,
   "id": "909d8875-0ce1-4286-9259-d413e1a30e5a",
   "metadata": {},
   "outputs": [],
   "source": [
    "l[90]"
   ]
  },
  {
   "cell_type": "code",
   "execution_count": null,
   "id": "83a7d33e-ebd4-465e-98c0-2bdb85b2bd6e",
   "metadata": {},
   "outputs": [],
   "source": [
    "l[0:4:1]"
   ]
  },
  {
   "cell_type": "code",
   "execution_count": null,
   "id": "7087b252-bdea-4ba2-9cac-1ad5f5b9b804",
   "metadata": {},
   "outputs": [],
   "source": [
    "l[-1]"
   ]
  },
  {
   "cell_type": "code",
   "execution_count": null,
   "id": "424b57cc-a903-40e6-8f6d-fda46722d09f",
   "metadata": {},
   "outputs": [],
   "source": [
    "l[-1::]"
   ]
  },
  {
   "cell_type": "code",
   "execution_count": null,
   "id": "98255a65-c0da-4eda-92a5-df44d700e6b7",
   "metadata": {},
   "outputs": [],
   "source": [
    "l[::-1]"
   ]
  },
  {
   "cell_type": "code",
   "execution_count": null,
   "id": "05fdc95b-d1ec-4d70-afbf-cc3fb6cf0454",
   "metadata": {},
   "outputs": [],
   "source": [
    "l[0::2]"
   ]
  },
  {
   "cell_type": "code",
   "execution_count": null,
   "id": "5417e734-6a94-49f3-917c-d8c6683bf678",
   "metadata": {},
   "outputs": [],
   "source": [
    "s=\"pwskills\""
   ]
  },
  {
   "cell_type": "code",
   "execution_count": null,
   "id": "ac1e8e40-aacf-4642-868a-b07c13837bfb",
   "metadata": {},
   "outputs": [],
   "source": [
    "l+s"
   ]
  },
  {
   "cell_type": "code",
   "execution_count": null,
   "id": "017d8bf8-5294-4660-acfd-d7087212732b",
   "metadata": {},
   "outputs": [],
   "source": [
    "list(s)+l"
   ]
  },
  {
   "cell_type": "code",
   "execution_count": null,
   "id": "447da7a9-4377-406d-8bad-fe69806f941a",
   "metadata": {},
   "outputs": [],
   "source": [
    "l[3]"
   ]
  },
  {
   "cell_type": "code",
   "execution_count": null,
   "id": "acb11da1-9cf2-491e-a1ef-503b92a72bd4",
   "metadata": {},
   "outputs": [],
   "source": [
    "l[2]"
   ]
  },
  {
   "cell_type": "code",
   "execution_count": null,
   "id": "fd084c06-4df0-4555-b522-8b8089a47ce2",
   "metadata": {},
   "outputs": [],
   "source": [
    "type(l[2])"
   ]
  },
  {
   "cell_type": "code",
   "execution_count": null,
   "id": "3373d07f-adde-431e-8902-78544baa8d81",
   "metadata": {},
   "outputs": [],
   "source": [
    "l[2][:2]"
   ]
  },
  {
   "cell_type": "code",
   "execution_count": null,
   "id": "9f2a1291-fbde-4afb-bad2-c5f0702fe754",
   "metadata": {},
   "outputs": [],
   "source": [
    "str(l[3])[0:2]"
   ]
  },
  {
   "cell_type": "code",
   "execution_count": null,
   "id": "4e3d1dd0-922a-47b8-824d-43cfdb6a2439",
   "metadata": {},
   "outputs": [],
   "source": [
    "l1=[3,4,5]"
   ]
  },
  {
   "cell_type": "code",
   "execution_count": null,
   "id": "5d429995-22de-4d2f-9b91-4802ac2bc8b2",
   "metadata": {},
   "outputs": [],
   "source": [
    "l+l1"
   ]
  },
  {
   "cell_type": "code",
   "execution_count": null,
   "id": "062a45e5-8926-4452-b886-f71fa9fb215b",
   "metadata": {},
   "outputs": [],
   "source": [
    "l1*3"
   ]
  },
  {
   "cell_type": "code",
   "execution_count": null,
   "id": "6b989553-7f6a-4d23-82c2-f786dc897359",
   "metadata": {},
   "outputs": [],
   "source": [
    "len(l)"
   ]
  },
  {
   "cell_type": "code",
   "execution_count": null,
   "id": "9d55250d-9dc5-4713-a7a8-149a318c0646",
   "metadata": {},
   "outputs": [],
   "source": [
    "l.append(45)"
   ]
  },
  {
   "cell_type": "code",
   "execution_count": null,
   "id": "f470b8f5-7603-4269-8546-3d80e62c8af0",
   "metadata": {},
   "outputs": [],
   "source": [
    "l"
   ]
  },
  {
   "cell_type": "code",
   "execution_count": null,
   "id": "d07d8245-f680-4143-a465-86210a22c8ff",
   "metadata": {},
   "outputs": [],
   "source": [
    "s"
   ]
  },
  {
   "cell_type": "code",
   "execution_count": null,
   "id": "865fa597-3b88-4cdb-a633-a124af4aa0d4",
   "metadata": {},
   "outputs": [],
   "source": [
    "l.append(s)"
   ]
  },
  {
   "cell_type": "code",
   "execution_count": null,
   "id": "5c1e9593-efae-4f72-972a-5b768188b289",
   "metadata": {},
   "outputs": [],
   "source": [
    "ll"
   ]
  },
  {
   "cell_type": "code",
   "execution_count": null,
   "id": "3e400d82-2d7c-4d1f-a0fa-68919138aac3",
   "metadata": {},
   "outputs": [],
   "source": [
    "l"
   ]
  },
  {
   "cell_type": "code",
   "execution_count": null,
   "id": "576244b1-cc35-41e9-ab45-4a19df570777",
   "metadata": {},
   "outputs": [],
   "source": [
    "l.append(l1)"
   ]
  },
  {
   "cell_type": "code",
   "execution_count": null,
   "id": "6737caba-8a0b-42c6-a08a-06468009058b",
   "metadata": {},
   "outputs": [],
   "source": [
    "l"
   ]
  },
  {
   "cell_type": "code",
   "execution_count": null,
   "id": "efea2b5f-cda5-40e5-8829-5af49cd903bf",
   "metadata": {},
   "outputs": [],
   "source": [
    "l[11][1]"
   ]
  },
  {
   "cell_type": "code",
   "execution_count": null,
   "id": "caaa1467-f92d-4ee0-8f00-1e9d9511b322",
   "metadata": {},
   "outputs": [],
   "source": [
    "l.etend()"
   ]
  },
  {
   "cell_type": "code",
   "execution_count": null,
   "id": "78ab1ee5-5e07-4e1c-bab3-84fe182c9dca",
   "metadata": {},
   "outputs": [],
   "source": [
    "l=[1,245,\"sudh\" , True ,5+7j,345.98]"
   ]
  },
  {
   "cell_type": "code",
   "execution_count": null,
   "id": "9a6cc76f-6ab6-4f3c-8094-ae046689d358",
   "metadata": {},
   "outputs": [],
   "source": [
    "l.extend(\"sudh\")"
   ]
  },
  {
   "cell_type": "code",
   "execution_count": null,
   "id": "b000a7d4-6d50-4167-90bf-b500619515f5",
   "metadata": {},
   "outputs": [],
   "source": [
    "l"
   ]
  },
  {
   "cell_type": "code",
   "execution_count": null,
   "id": "8d43d5e2-278c-4105-bbf5-8f74f011bc86",
   "metadata": {},
   "outputs": [],
   "source": [
    "l.extend([2,4,5])"
   ]
  },
  {
   "cell_type": "code",
   "execution_count": null,
   "id": "82bc7fbd-66af-4219-ba3c-74c5450a417a",
   "metadata": {},
   "outputs": [],
   "source": [
    "l"
   ]
  },
  {
   "cell_type": "code",
   "execution_count": null,
   "id": "e50a9814-4fa9-4353-8653-3aa56187e7a7",
   "metadata": {},
   "outputs": [],
   "source": [
    "l1=[3,4,5]"
   ]
  },
  {
   "cell_type": "code",
   "execution_count": null,
   "id": "c449686b-2539-491d-938f-2f1a39cc72bd",
   "metadata": {},
   "outputs": [],
   "source": [
    "l1.insert(1,\"sudh\")"
   ]
  },
  {
   "cell_type": "code",
   "execution_count": null,
   "id": "ebc41bfb-f30d-4261-827b-44dcfa6933f5",
   "metadata": {},
   "outputs": [],
   "source": [
    "l1"
   ]
  },
  {
   "cell_type": "code",
   "execution_count": null,
   "id": "ee9f1104-c8c0-4713-b1d4-cced614f543b",
   "metadata": {},
   "outputs": [],
   "source": [
    "l1.insert(2,[2,3,4])"
   ]
  },
  {
   "cell_type": "code",
   "execution_count": null,
   "id": "be309e60-ad78-4d11-8ac9-bbf66d13257d",
   "metadata": {},
   "outputs": [],
   "source": [
    "l1"
   ]
  },
  {
   "cell_type": "code",
   "execution_count": null,
   "id": "47be4952-53e4-4977-821d-41cab47ade4f",
   "metadata": {},
   "outputs": [],
   "source": [
    "l1.insert(-1,45)"
   ]
  },
  {
   "cell_type": "code",
   "execution_count": null,
   "id": "a353ff13-82a1-41e3-8b8e-e7e998cfa424",
   "metadata": {},
   "outputs": [],
   "source": [
    "l1"
   ]
  },
  {
   "cell_type": "code",
   "execution_count": null,
   "id": "f7cfe48d-9489-4f29-8070-0fd9989a7e04",
   "metadata": {},
   "outputs": [],
   "source": [
    "l1.insert(0,45)"
   ]
  },
  {
   "cell_type": "code",
   "execution_count": null,
   "id": "1d5badff-e3d3-4212-96f2-ea3db7b28775",
   "metadata": {},
   "outputs": [],
   "source": [
    "l1"
   ]
  },
  {
   "cell_type": "code",
   "execution_count": null,
   "id": "7ffd2fb1-caba-4c94-8f3f-a1c4a7e1dcf5",
   "metadata": {},
   "outputs": [],
   "source": [
    "l1.insert(4,[2,3,4])"
   ]
  },
  {
   "cell_type": "code",
   "execution_count": null,
   "id": "c247fe72-9ca5-4160-828b-b1035359f866",
   "metadata": {},
   "outputs": [],
   "source": [
    "l1"
   ]
  },
  {
   "cell_type": "code",
   "execution_count": null,
   "id": "54ab7d1e-4aea-4847-b95a-6a4b9b736fea",
   "metadata": {},
   "outputs": [],
   "source": [
    "l1.pop(5)"
   ]
  },
  {
   "cell_type": "code",
   "execution_count": null,
   "id": "3b7c9cd8-bd00-4605-a7ff-ea98f7085723",
   "metadata": {},
   "outputs": [],
   "source": [
    "l1.pop()"
   ]
  },
  {
   "cell_type": "code",
   "execution_count": null,
   "id": "1b3245cd-b385-4a09-bd0c-50608b11f767",
   "metadata": {},
   "outputs": [],
   "source": [
    "l1"
   ]
  },
  {
   "cell_type": "code",
   "execution_count": null,
   "id": "5e9a3bb6-dfae-4dfe-a2db-a47930726d54",
   "metadata": {},
   "outputs": [],
   "source": [
    "l.pop()"
   ]
  },
  {
   "cell_type": "code",
   "execution_count": null,
   "id": "b43bb520-7f42-4fa7-ac7d-67d80d55d853",
   "metadata": {},
   "outputs": [],
   "source": [
    "l1"
   ]
  },
  {
   "cell_type": "code",
   "execution_count": null,
   "id": "4bcab263-800c-4676-8085-17bed0971540",
   "metadata": {},
   "outputs": [],
   "source": [
    "l1.pop()"
   ]
  },
  {
   "cell_type": "code",
   "execution_count": null,
   "id": "a6674de4-f2ea-47c0-bb6d-600ed495f866",
   "metadata": {},
   "outputs": [],
   "source": [
    "l1"
   ]
  },
  {
   "cell_type": "code",
   "execution_count": null,
   "id": "ac765353-c387-4ffc-9d27-a073980c9db7",
   "metadata": {},
   "outputs": [],
   "source": [
    "l1.insert(-2,4)"
   ]
  },
  {
   "cell_type": "code",
   "execution_count": null,
   "id": "d6261a6a-9765-4789-b8da-2b73618dc895",
   "metadata": {},
   "outputs": [],
   "source": [
    "l1"
   ]
  },
  {
   "cell_type": "code",
   "execution_count": null,
   "id": "ee8b7b48-6dfc-42a0-9c68-171fd990df02",
   "metadata": {},
   "outputs": [],
   "source": [
    "l1.pop(3)"
   ]
  },
  {
   "cell_type": "code",
   "execution_count": null,
   "id": "d0ac3854-eaf4-4787-8afb-a55f0b3bb354",
   "metadata": {},
   "outputs": [],
   "source": [
    "l1.append(4)"
   ]
  },
  {
   "cell_type": "code",
   "execution_count": null,
   "id": "ca3a0dcf-15ea-4e82-8a76-e1c397b3e080",
   "metadata": {},
   "outputs": [],
   "source": [
    "l1"
   ]
  },
  {
   "cell_type": "code",
   "execution_count": null,
   "id": "f1988c25-17cd-4e09-983c-f4e2de35756e",
   "metadata": {},
   "outputs": [],
   "source": [
    "l1.pop(3)"
   ]
  },
  {
   "cell_type": "code",
   "execution_count": null,
   "id": "74641e97-5516-4e20-b314-22ec1baeb917",
   "metadata": {},
   "outputs": [],
   "source": [
    "l1"
   ]
  },
  {
   "cell_type": "code",
   "execution_count": null,
   "id": "98a91968-a0c2-42be-96ba-e5fc72f70d4f",
   "metadata": {},
   "outputs": [],
   "source": [
    "l1.remove(3)"
   ]
  },
  {
   "cell_type": "code",
   "execution_count": null,
   "id": "c47bdf31-f3db-4025-b688-3a8eb2d4022f",
   "metadata": {},
   "outputs": [],
   "source": [
    "l1"
   ]
  },
  {
   "cell_type": "code",
   "execution_count": null,
   "id": "61160fe5-d968-4cff-9b20-26839f6fcd9d",
   "metadata": {},
   "outputs": [],
   "source": [
    "l1.remove([2,3,4])"
   ]
  },
  {
   "cell_type": "code",
   "execution_count": null,
   "id": "2664c62a-0955-47c6-a724-907ed70689f1",
   "metadata": {},
   "outputs": [],
   "source": [
    "l1"
   ]
  },
  {
   "cell_type": "code",
   "execution_count": null,
   "id": "ad83b968-93dc-465a-a6d7-9de915f109bb",
   "metadata": {},
   "outputs": [],
   "source": [
    "l1.insert(2,[2,3,4])"
   ]
  },
  {
   "cell_type": "code",
   "execution_count": null,
   "id": "5285ddcb-2e3b-4671-a8b9-96512e57f57a",
   "metadata": {},
   "outputs": [],
   "source": [
    "l1"
   ]
  },
  {
   "cell_type": "code",
   "execution_count": null,
   "id": "e11eb9ec-70e0-486e-8098-8e0d4824c6f5",
   "metadata": {},
   "outputs": [],
   "source": [
    "l1[2].remove(3)"
   ]
  },
  {
   "cell_type": "code",
   "execution_count": null,
   "id": "c6e8fe92-1e4d-4590-8bde-10e6db44842a",
   "metadata": {},
   "outputs": [],
   "source": [
    "l1"
   ]
  },
  {
   "cell_type": "code",
   "execution_count": null,
   "id": "149cd762-f534-4315-9d2c-09435bb16cf4",
   "metadata": {},
   "outputs": [],
   "source": [
    "l1[1]"
   ]
  },
  {
   "cell_type": "code",
   "execution_count": null,
   "id": "5c547b53-28f1-41bb-af5d-f9ea4ac3be62",
   "metadata": {},
   "outputs": [],
   "source": [
    "l1"
   ]
  },
  {
   "cell_type": "code",
   "execution_count": null,
   "id": "b46d2d89-5a77-41a5-a2d5-5a7a03d334c1",
   "metadata": {},
   "outputs": [],
   "source": [
    "l1.append(4)"
   ]
  },
  {
   "cell_type": "code",
   "execution_count": null,
   "id": "1a8d5e7d-e6c6-4cc9-b0fe-0c602c779cb5",
   "metadata": {},
   "outputs": [],
   "source": [
    "l1\n"
   ]
  },
  {
   "cell_type": "code",
   "execution_count": null,
   "id": "c06f0605-c18e-4a3b-bf60-00739d546fde",
   "metadata": {},
   "outputs": [],
   "source": [
    "l1.remove(4)"
   ]
  },
  {
   "cell_type": "code",
   "execution_count": null,
   "id": "b5c6c872-31ea-4286-8108-b58156d9355d",
   "metadata": {},
   "outputs": [],
   "source": [
    "l1"
   ]
  },
  {
   "cell_type": "code",
   "execution_count": null,
   "id": "64f40e1b-e7f1-4840-9033-56c1cb46d418",
   "metadata": {},
   "outputs": [],
   "source": [
    "l1"
   ]
  },
  {
   "cell_type": "code",
   "execution_count": null,
   "id": "05aef251-c4cd-4b43-89b3-1433da7cd415",
   "metadata": {},
   "outputs": [],
   "source": [
    "l1=l1[::-1]"
   ]
  },
  {
   "cell_type": "code",
   "execution_count": null,
   "id": "af0fdbec-5c8c-4f96-82fe-056d2df74907",
   "metadata": {},
   "outputs": [],
   "source": [
    "l1.reverse()"
   ]
  },
  {
   "cell_type": "code",
   "execution_count": null,
   "id": "348d428a-8558-47e4-8cda-cf275fab184c",
   "metadata": {},
   "outputs": [],
   "source": [
    "l1"
   ]
  },
  {
   "cell_type": "code",
   "execution_count": null,
   "id": "0de98b0a-89d4-4973-9461-34b076022bf0",
   "metadata": {},
   "outputs": [],
   "source": [
    "l1"
   ]
  },
  {
   "cell_type": "code",
   "execution_count": null,
   "id": "37b13c21-de26-4f58-835f-37bbee9e3f58",
   "metadata": {},
   "outputs": [],
   "source": [
    "l2=[3,4,5,6,7,8,9]"
   ]
  },
  {
   "cell_type": "code",
   "execution_count": null,
   "id": "0b6b4249-273d-4b64-95a7-4949c1e7ca6d",
   "metadata": {},
   "outputs": [],
   "source": [
    "l2.sort()"
   ]
  },
  {
   "cell_type": "code",
   "execution_count": null,
   "id": "6a8dc94a-6554-4f84-89a4-4d8530d9fd42",
   "metadata": {},
   "outputs": [],
   "source": [
    "l2"
   ]
  },
  {
   "cell_type": "code",
   "execution_count": null,
   "id": "44b1f663-d8fa-483d-8300-c368e38ab3b4",
   "metadata": {},
   "outputs": [],
   "source": [
    "l2=[45,23,90,0,3,4,5,6,7,8,9]"
   ]
  },
  {
   "cell_type": "code",
   "execution_count": null,
   "id": "8c7989d7-cc2e-41b9-8447-001d7052766a",
   "metadata": {},
   "outputs": [],
   "source": [
    "l2.sort()"
   ]
  },
  {
   "cell_type": "code",
   "execution_count": null,
   "id": "c40f2aa1-0e31-4617-984d-d8768f300e2d",
   "metadata": {},
   "outputs": [],
   "source": [
    "l2"
   ]
  },
  {
   "cell_type": "code",
   "execution_count": null,
   "id": "16e37967-4ce5-4ed1-bf36-adcbbc261731",
   "metadata": {},
   "outputs": [],
   "source": [
    "l3=[34,\"shudh\",45,12,\"kumar\"]"
   ]
  },
  {
   "cell_type": "code",
   "execution_count": null,
   "id": "acd71f29-5543-4cf3-805f-2d6e0a63ab35",
   "metadata": {},
   "outputs": [],
   "source": [
    "l3.sort()"
   ]
  },
  {
   "cell_type": "code",
   "execution_count": null,
   "id": "d5e4971d-0470-4b15-96cc-5f51184a3dde",
   "metadata": {},
   "outputs": [],
   "source": [
    "l4=[\"sudh\",\"kumar\",\"pwskills\",\"data science\"]"
   ]
  },
  {
   "cell_type": "code",
   "execution_count": null,
   "id": "8ae3bbea-6cbe-46da-a66a-641b4b8a5f46",
   "metadata": {},
   "outputs": [],
   "source": [
    "l4.sort(reverse=True)"
   ]
  },
  {
   "cell_type": "code",
   "execution_count": null,
   "id": "1903126d-e256-4411-a3c1-fe02b949fdc0",
   "metadata": {},
   "outputs": [],
   "source": [
    "l4"
   ]
  },
  {
   "cell_type": "code",
   "execution_count": null,
   "id": "eb0505ea-c246-4641-ac90-0b38fcfe50df",
   "metadata": {},
   "outputs": [],
   "source": [
    "l4"
   ]
  },
  {
   "cell_type": "code",
   "execution_count": null,
   "id": "e0be3cc1-6eca-4f89-9212-a0b043e38b5b",
   "metadata": {},
   "outputs": [],
   "source": [
    "l4.index(\"sudh\")"
   ]
  },
  {
   "cell_type": "code",
   "execution_count": null,
   "id": "21c760dc-804f-4877-ae5f-385a26e2dc80",
   "metadata": {},
   "outputs": [],
   "source": [
    "l4.count(\"sudh\")"
   ]
  },
  {
   "cell_type": "code",
   "execution_count": null,
   "id": "b70205d8-360a-4c4f-bd1a-09709ae66e78",
   "metadata": {},
   "outputs": [],
   "source": [
    "s=\"sudh\""
   ]
  },
  {
   "cell_type": "code",
   "execution_count": null,
   "id": "76c2e5fa-fcd0-46d2-a5d8-c9a2c0f56cdb",
   "metadata": {},
   "outputs": [],
   "source": [
    "l5=[3,4,5,6]"
   ]
  },
  {
   "cell_type": "code",
   "execution_count": null,
   "id": "ab050e05-2051-46a7-a297-c11cefeb3dbe",
   "metadata": {},
   "outputs": [],
   "source": [
    "s[0]='a'"
   ]
  },
  {
   "cell_type": "code",
   "execution_count": null,
   "id": "08ad6418-6235-4097-947f-65a932627a09",
   "metadata": {},
   "outputs": [],
   "source": [
    "l5[0]=30"
   ]
  },
  {
   "cell_type": "code",
   "execution_count": null,
   "id": "9c6589a6-068c-48d6-b8ea-c1553ae6d45c",
   "metadata": {},
   "outputs": [],
   "source": [
    "l5"
   ]
  },
  {
   "cell_type": "code",
   "execution_count": null,
   "id": "4c057261-1561-4758-8ec0-c1290032c8fe",
   "metadata": {},
   "outputs": [],
   "source": [
    "### mutablity----->same place mein element ke index ko access krke usko usko change kar ske like integer ko integer hi replace kar skta h  in case of string you can not assign any thing. list are mutable but string are immutable.  "
   ]
  },
  {
   "cell_type": "code",
   "execution_count": null,
   "id": "65915581-5799-4b12-b4ed-8b7d1ccf5a77",
   "metadata": {},
   "outputs": [],
   "source": [
    "s"
   ]
  },
  {
   "cell_type": "code",
   "execution_count": null,
   "id": "2d59b800-2130-47b1-9b72-6933720ebb0e",
   "metadata": {},
   "outputs": [],
   "source": [
    " s.replace('s','a')### this create a new memeory .donnot change the above one ."
   ]
  },
  {
   "cell_type": "code",
   "execution_count": null,
   "id": "11f53bf0-2338-4fa9-b606-1e3feda8f299",
   "metadata": {},
   "outputs": [],
   "source": [
    "s"
   ]
  },
  {
   "cell_type": "code",
   "execution_count": null,
   "id": "057085bb-9d96-4393-9550-3eb4d5db6ee9",
   "metadata": {},
   "outputs": [],
   "source": [
    "s=s.replace('s','a')###this mean you are assigning mutablity and assigning is different .mutablity means change teh element in same index(memeory). by assigning you make previous value garbage. string is always immutable."
   ]
  },
  {
   "cell_type": "code",
   "execution_count": null,
   "id": "ebcb4138-bd16-4f41-bea2-e357a6e1f7a9",
   "metadata": {},
   "outputs": [],
   "source": [
    "s"
   ]
  },
  {
   "cell_type": "code",
   "execution_count": null,
   "id": "aa40cddd-41a1-4950-a2a1-4c16229e6031",
   "metadata": {},
   "outputs": [],
   "source": [
    " s=s.replace('a','s')"
   ]
  },
  {
   "cell_type": "code",
   "execution_count": null,
   "id": "0cff9d8e-bc2f-477a-b16d-206f7a24d3d9",
   "metadata": {},
   "outputs": [],
   "source": [
    "s"
   ]
  },
  {
   "cell_type": "code",
   "execution_count": null,
   "id": "4df488ad-5371-48f0-9074-9b451b5058b4",
   "metadata": {},
   "outputs": [],
   "source": [
    "l1[3,4,5,6,(5+7j)]"
   ]
  },
  {
   "cell_type": "code",
   "execution_count": null,
   "id": "4e8e2a86-869a-40ca-8c07-21d1f0f22b33",
   "metadata": {},
   "outputs": [],
   "source": [
    "t=(2,3,4,5,\"sudh\",45.56,False,45+457j,[3,4,5])"
   ]
  },
  {
   "cell_type": "code",
   "execution_count": null,
   "id": "d60d00ea-6928-4a45-9bac-26af172d008f",
   "metadata": {},
   "outputs": [],
   "source": [
    "t"
   ]
  },
  {
   "cell_type": "code",
   "execution_count": null,
   "id": "d6f37dc1-fb52-4608-9549-7bda0301c85b",
   "metadata": {},
   "outputs": [],
   "source": [
    "type(t)"
   ]
  },
  {
   "cell_type": "code",
   "execution_count": null,
   "id": "98b260c2-649b-4b83-a924-cf382d1bd634",
   "metadata": {},
   "outputs": [],
   "source": [
    "len(t)"
   ]
  },
  {
   "cell_type": "code",
   "execution_count": null,
   "id": "e0b8bfe9-905a-4ab9-bce9-456c1aedb47c",
   "metadata": {},
   "outputs": [],
   "source": [
    "t[0]"
   ]
  },
  {
   "cell_type": "code",
   "execution_count": null,
   "id": "36cb1cf0-a3f5-431e-a47a-434c7f8a315f",
   "metadata": {},
   "outputs": [],
   "source": [
    "t[-1]"
   ]
  },
  {
   "cell_type": "code",
   "execution_count": null,
   "id": "f5fd04c1-67d0-4044-a74e-dc77ee79e581",
   "metadata": {},
   "outputs": [],
   "source": [
    "t[::-1]"
   ]
  },
  {
   "cell_type": "code",
   "execution_count": null,
   "id": "02d29928-9c70-4c44-955c-dbcabdd69231",
   "metadata": {},
   "outputs": [],
   "source": [
    "l4"
   ]
  },
  {
   "cell_type": "code",
   "execution_count": null,
   "id": "9ae7a7fb-467e-4aad-ac3f-3745fd12fc89",
   "metadata": {},
   "outputs": [],
   "source": [
    "l4[0]=23424    ###list are mutable as we change 'sudh' to 23424 at same index(memeory)."
   ]
  },
  {
   "cell_type": "code",
   "execution_count": null,
   "id": "26876639-986e-45e2-a705-1c76f955a8e5",
   "metadata": {},
   "outputs": [],
   "source": [
    "l4"
   ]
  },
  {
   "cell_type": "code",
   "execution_count": null,
   "id": "8953fd6c-1f86-4870-a201-3eca46d0bcc4",
   "metadata": {},
   "outputs": [],
   "source": [
    "t[0]=\"sudh\"    ###tuples are immutable like sring .tuples don not change the element at same index(memory) at any time."
   ]
  },
  {
   "cell_type": "code",
   "execution_count": null,
   "id": "1d40c819-548a-43fc-b4aa-ae18c83fd908",
   "metadata": {},
   "outputs": [],
   "source": [
    "t[::-1]"
   ]
  },
  {
   "cell_type": "code",
   "execution_count": null,
   "id": "cdae9394-d371-4c77-9798-db4f297d9409",
   "metadata": {},
   "outputs": [],
   "source": [
    "### imutable means you can not change the element at same index . you reverse the tuples it does not mean that yoou cahne index of elemnet of tuples it means taht you create a new index(memory) then you  store the reverse of orignal tuples .   if you call the tuples t it same as you define it does not chane by reversing .  "
   ]
  },
  {
   "cell_type": "code",
   "execution_count": null,
   "id": "838a9bc4-8986-4928-9b9c-0b6bd0ca18fc",
   "metadata": {},
   "outputs": [],
   "source": [
    "t"
   ]
  },
  {
   "cell_type": "code",
   "execution_count": null,
   "id": "00dd6c5e-c394-47a6-a63a-9ba1c036e622",
   "metadata": {},
   "outputs": [],
   "source": [
    "t=t[::-1] ### resssignment"
   ]
  },
  {
   "cell_type": "code",
   "execution_count": null,
   "id": "4c859d32-be6d-46c0-baf6-4605232b576a",
   "metadata": {},
   "outputs": [],
   "source": [
    "t"
   ]
  },
  {
   "cell_type": "code",
   "execution_count": null,
   "id": "b0d8219f-3f15-4fde-b100-2b62b5bea16d",
   "metadata": {},
   "outputs": [],
   "source": [
    "###now you say that you change the index of element because you are reassigning you made the previous tuple garbage .  reassign and mutability are different concepts mutablity mans you change the element at same index . by reassigning you make previous tuple garbage . list are mutable but tuples and string are immutable. "
   ]
  },
  {
   "cell_type": "code",
   "execution_count": null,
   "id": "9ace4cd0-740e-4d07-93fe-3e9708bf6c11",
   "metadata": {},
   "outputs": [],
   "source": [
    "t.count(50)"
   ]
  },
  {
   "cell_type": "code",
   "execution_count": null,
   "id": "4e14ecb8-b370-4a2a-8b41-e5a3889ade8c",
   "metadata": {},
   "outputs": [],
   "source": [
    "t.index(False)"
   ]
  },
  {
   "cell_type": "code",
   "execution_count": null,
   "id": "1e69f82f-30cb-4a8a-93fa-ba683306c7de",
   "metadata": {},
   "outputs": [],
   "source": [
    "t"
   ]
  },
  {
   "cell_type": "code",
   "execution_count": null,
   "id": "3e450fba-224c-4bc3-a81b-3a63b3f27c47",
   "metadata": {},
   "outputs": [],
   "source": [
    "s1={}"
   ]
  },
  {
   "cell_type": "code",
   "execution_count": null,
   "id": "a36b344d-4975-41b0-8243-65f76ea1bc37",
   "metadata": {},
   "outputs": [],
   "source": [
    "type(s1)"
   ]
  },
  {
   "cell_type": "code",
   "execution_count": null,
   "id": "d70b8b88-35dc-47e5-9303-08b9748588e6",
   "metadata": {},
   "outputs": [],
   "source": [
    "s2={2,3,4,55,6}"
   ]
  },
  {
   "cell_type": "code",
   "execution_count": null,
   "id": "78011994-cd0d-4f79-810e-443b718c0e30",
   "metadata": {},
   "outputs": [],
   "source": [
    "type(s2)"
   ]
  },
  {
   "cell_type": "code",
   "execution_count": null,
   "id": "cad8f808-094c-4024-8896-8dd1c9b856e3",
   "metadata": {},
   "outputs": [],
   "source": [
    "s3={ 324,456,\"shudh\",45+45j,[2,3,4],(3,4,5)}    ### set is also immutable like tuples and string it also take immuatble element . so it shows error when we add tuples in it "
   ]
  },
  {
   "cell_type": "code",
   "execution_count": null,
   "id": "ca60203a-5cb1-4809-83ca-eb5eb12e29f6",
   "metadata": {},
   "outputs": [],
   "source": [
    "s3={324,456,\"sudh\",45+45j,(3,4,5)}"
   ]
  },
  {
   "cell_type": "code",
   "execution_count": null,
   "id": "bf3b2633-d6e8-4c4a-b4b5-7811f5c65d57",
   "metadata": {},
   "outputs": [],
   "source": [
    "s4={2,3,4,5,6,2,2,3,4,5,2,3,1,2,3,4,5,6,1,2,2,3,'sudh','Sudh'}"
   ]
  },
  {
   "cell_type": "code",
   "execution_count": null,
   "id": "5a03f4a9-98ee-489f-917b-82ca7baf9d21",
   "metadata": {},
   "outputs": [],
   "source": [
    "s4\n",
    "\n",
    "### set remove all the duplicates.build an unodered collection of unique element. "
   ]
  },
  {
   "cell_type": "code",
   "execution_count": null,
   "id": "7bdbbd44-2825-403f-9293-701d59cd781e",
   "metadata": {},
   "outputs": [],
   "source": [
    "l6=[2,3,4,5,6,2,2,3,4,5,2,3,1,2,3,4,5,6,1,2,2,3,'sudh','Sudh']"
   ]
  },
  {
   "cell_type": "code",
   "execution_count": null,
   "id": "d51462c4-581d-434f-860b-274c92e2a0db",
   "metadata": {},
   "outputs": [],
   "source": [
    " l6= list(set(l6))  ### set is also present as the function .we reassing the l6 and type cast it in the form of list ."
   ]
  },
  {
   "cell_type": "code",
   "execution_count": null,
   "id": "b9c4800f-941d-436b-8013-583bd053df2c",
   "metadata": {},
   "outputs": [],
   "source": [
    "l6"
   ]
  },
  {
   "cell_type": "code",
   "execution_count": null,
   "id": "45ef578c-f780-4196-848e-2e7dc7f49d09",
   "metadata": {},
   "outputs": [],
   "source": [
    "s5={234,45,23,12,567,45,2,789,234,\"abc\",456,342,23}"
   ]
  },
  {
   "cell_type": "code",
   "execution_count": null,
   "id": "dcfbb55b-cd7b-4dce-80cd-27f7f730a301",
   "metadata": {},
   "outputs": [],
   "source": [
    "s5"
   ]
  },
  {
   "cell_type": "code",
   "execution_count": null,
   "id": "c54d3dc3-e236-41fe-844a-ed3016981e58",
   "metadata": {},
   "outputs": [],
   "source": [
    "s5[0]  ### you can not script any element in set.  so indexing of any element is not working. "
   ]
  },
  {
   "cell_type": "code",
   "execution_count": null,
   "id": "39197bf1-77af-43c0-8578-50c70e1b2ba3",
   "metadata": {},
   "outputs": [],
   "source": [
    "s5[::-1]   #### slicing is also not work in set."
   ]
  },
  {
   "cell_type": "code",
   "execution_count": null,
   "id": "b83df256-2a1e-4226-bff7-ee9a2fb4ac90",
   "metadata": {},
   "outputs": [],
   "source": [
    "s5"
   ]
  },
  {
   "cell_type": "code",
   "execution_count": null,
   "id": "37fa24e8-248d-4b02-8a32-52789acf6ef4",
   "metadata": {},
   "outputs": [],
   "source": [
    "s5.add(4)"
   ]
  },
  {
   "cell_type": "code",
   "execution_count": null,
   "id": "d4251a2b-49c9-43d3-88ae-986aefb3ec52",
   "metadata": {},
   "outputs": [],
   "source": [
    "s5"
   ]
  },
  {
   "cell_type": "code",
   "execution_count": null,
   "id": "63b09e5b-7420-411c-8025-9be31bc430ad",
   "metadata": {},
   "outputs": [],
   "source": [
    "s5.remove(2)"
   ]
  },
  {
   "cell_type": "code",
   "execution_count": null,
   "id": "623f297c-c0f0-43c8-bdfe-c95e8f524057",
   "metadata": {},
   "outputs": [],
   "source": [
    "s5"
   ]
  },
  {
   "cell_type": "code",
   "execution_count": null,
   "id": "0faea546-89cb-40d8-bf45-f5d93d05ae7e",
   "metadata": {},
   "outputs": [],
   "source": [
    "d= {} ### dictionary use to store data(value) with reference( key). "
   ]
  },
  {
   "cell_type": "code",
   "execution_count": null,
   "id": "97326b5f-7c9e-4c5b-9128-0d1e44dc6ef9",
   "metadata": {},
   "outputs": [],
   "source": [
    "type(d)"
   ]
  },
  {
   "cell_type": "code",
   "execution_count": null,
   "id": "54e8d48e-7ec8-49c3-b03b-42ec1e7c7fe1",
   "metadata": {},
   "outputs": [],
   "source": [
    "d1={\"key\" : \"sudh\"}"
   ]
  },
  {
   "cell_type": "code",
   "execution_count": null,
   "id": "27cc3ab7-80a1-460e-95b6-100031415e37",
   "metadata": {},
   "outputs": [],
   "source": [
    "d1"
   ]
  },
  {
   "cell_type": "code",
   "execution_count": null,
   "id": "af39a894-e165-4e7b-865b-3138204c4612",
   "metadata": {},
   "outputs": [],
   "source": [
    "d2= {\"name\" : \"shudhanshu\" ,\"email\":\"ss@gmail.com\" , \"number\":334534}"
   ]
  },
  {
   "cell_type": "code",
   "execution_count": null,
   "id": "13029c66-82db-4d5a-b2f7-782b48cede9f",
   "metadata": {},
   "outputs": [],
   "source": [
    "d2"
   ]
  },
  {
   "cell_type": "code",
   "execution_count": null,
   "id": "fae4c2c7-ad1d-4e9b-ae57-7e3eb8e3fcd3",
   "metadata": {},
   "outputs": [],
   "source": [
    "d3 ={234: \"sudh\"}"
   ]
  },
  {
   "cell_type": "code",
   "execution_count": null,
   "id": "aa13e349-7755-4d00-8271-2d39ca509acb",
   "metadata": {},
   "outputs": [],
   "source": [
    "d3"
   ]
  },
  {
   "cell_type": "code",
   "execution_count": null,
   "id": "722a71e6-4a65-4857-9da7-157a8c97514e",
   "metadata": {},
   "outputs": [],
   "source": [
    "d3 ={234: \"sudh\" , \"@wer\": \"kumar\"}       ### key can be numeric but if there special case character like @ and _  . to make it key  we must use  single or double quotes . we can also make key boolean value. "
   ]
  },
  {
   "cell_type": "code",
   "execution_count": null,
   "id": "f2a91997-22d7-44ba-93f6-8c2f0df83867",
   "metadata": {},
   "outputs": [],
   "source": [
    "d3"
   ]
  },
  {
   "cell_type": "code",
   "execution_count": null,
   "id": "0cb48311-b33b-4aff-9ed3-e0a0664d911b",
   "metadata": {},
   "outputs": [],
   "source": [
    "d3 ={234: \"sudh\" , \"_wer\": \"kumar\" , True :24234}  "
   ]
  },
  {
   "cell_type": "code",
   "execution_count": null,
   "id": "4221bb34-f7de-4f4f-bd68-7eb78166a1e3",
   "metadata": {},
   "outputs": [],
   "source": [
    "d3"
   ]
  },
  {
   "cell_type": "code",
   "execution_count": null,
   "id": "771b28af-aa51-45f8-a4d9-171dcc147b2e",
   "metadata": {},
   "outputs": [],
   "source": [
    "d3[234]"
   ]
  },
  {
   "cell_type": "code",
   "execution_count": null,
   "id": "dab425e2-a4aa-42f1-8a5c-b1be74d89071",
   "metadata": {},
   "outputs": [],
   "source": [
    "d3[1]"
   ]
  },
  {
   "cell_type": "code",
   "execution_count": null,
   "id": "8db86c34-1527-40d9-babb-6d1507900c43",
   "metadata": {},
   "outputs": [],
   "source": [
    "d4 ={ \"name\" : \"sudh\" , \"mail_id \": \"ss@gmail.com\" , \"name\" : \"sudhanshu\"}   #### key are always unique if yyou make same key then it overwrite the last  updated value the value ."
   ]
  },
  {
   "cell_type": "code",
   "execution_count": null,
   "id": "8e37de4a-ad54-4328-a55f-6c5ff7e47b34",
   "metadata": {},
   "outputs": [],
   "source": [
    "d4[\"name\"]   "
   ]
  },
  {
   "cell_type": "code",
   "execution_count": null,
   "id": "eaa4f43b-f739-4c09-adbf-b9019a08f994",
   "metadata": {},
   "outputs": [],
   "source": [
    "d5={ \"company\" : \"pwskills\", \" course\" : [\"web dev\" , \"data science\" , \"java with dsa system design\"]}\n",
    "                                        "
   ]
  },
  {
   "cell_type": "code",
   "execution_count": null,
   "id": "1b792f29-5273-4b61-8692-8e013d387677",
   "metadata": {},
   "outputs": [],
   "source": [
    "d5"
   ]
  },
  {
   "cell_type": "code",
   "execution_count": null,
   "id": "61a86a9c-3018-4104-8925-1c974bfd362e",
   "metadata": {},
   "outputs": [],
   "source": [
    "d5"
   ]
  },
  {
   "cell_type": "code",
   "execution_count": null,
   "id": "84b305f3-8c82-48e9-8288-cc4b9217df8f",
   "metadata": {},
   "outputs": [],
   "source": [
    "d5[\"company\"]"
   ]
  },
  {
   "cell_type": "code",
   "execution_count": null,
   "id": "8a6cf3c1-b05d-44b3-8857-c401d1b8799d",
   "metadata": {},
   "outputs": [],
   "source": [
    "d6 ={ \"number\" : [2,34,3,34,34] , \"assignment\" : ( 1,2,3,4,5,6) , \"launch\" :{28,12,14} , \"class_time\":{\"web_ dev\" : 8, \"java with dsa and system design\": 7 }}"
   ]
  },
  {
   "cell_type": "code",
   "execution_count": null,
   "id": "f6e1aa04-8f8b-4143-a419-dafb3338f484",
   "metadata": {},
   "outputs": [],
   "source": [
    "d6  ###dictionary  can store dictionary in it ."
   ]
  },
  {
   "cell_type": "code",
   "execution_count": null,
   "id": "6fa977ed-cf59-44eb-b4a2-8c1367e9eede",
   "metadata": {},
   "outputs": [],
   "source": [
    "d6[\"class_time\"][\"java with dsa and system design\"]"
   ]
  },
  {
   "cell_type": "code",
   "execution_count": null,
   "id": "81744e91-5aaa-4e2c-b713-6cf909a6076e",
   "metadata": {},
   "outputs": [],
   "source": [
    "d6"
   ]
  },
  {
   "cell_type": "code",
   "execution_count": null,
   "id": "72fa11ae-c79b-4cf3-ace1-b8513316fd49",
   "metadata": {},
   "outputs": [],
   "source": [
    "d6[\"mentor\"] =[\"sudhanshu\" , \"krish\" ,\"anurag\", \"hayder\"]   ## to add a new key value pair in dictionary."
   ]
  },
  {
   "cell_type": "code",
   "execution_count": null,
   "id": "fe54ac74-975c-4406-8a6b-ff49d2f480ad",
   "metadata": {},
   "outputs": [],
   "source": [
    "d6"
   ]
  },
  {
   "cell_type": "code",
   "execution_count": null,
   "id": "ebe33e58-5003-47a7-9501-dda4f0920ca8",
   "metadata": {},
   "outputs": [],
   "source": [
    "del d6[\"number\"] ### del is use to delete a key value pair."
   ]
  },
  {
   "cell_type": "code",
   "execution_count": null,
   "id": "2cea5994-32a4-4d3d-ab26-c17b8ac798e0",
   "metadata": {},
   "outputs": [],
   "source": [
    "d6"
   ]
  },
  {
   "cell_type": "code",
   "execution_count": null,
   "id": "43493b59-3193-4b9e-a4a5-df02d362fbcb",
   "metadata": {},
   "outputs": [],
   "source": [
    "d6.keys()   #### use to get the key value only. and you can also get teh values by using values()."
   ]
  },
  {
   "cell_type": "code",
   "execution_count": null,
   "id": "0aaf2da5-830d-4d25-9873-235c862bf117",
   "metadata": {},
   "outputs": [],
   "source": [
    " list(d6.values())   #### you can also convert it in list, tuples ,set acc. to your preference,"
   ]
  },
  {
   "cell_type": "code",
   "execution_count": null,
   "id": "1dc1e661-3afd-46aa-b72a-5603c4a1cc43",
   "metadata": {},
   "outputs": [],
   "source": [
    "d6.items()  ### by the help of item you can also take out value and keys."
   ]
  },
  {
   "cell_type": "code",
   "execution_count": null,
   "id": "ae6b9ce4-340a-47d4-9775-7ab8a2df286e",
   "metadata": {},
   "outputs": [],
   "source": [
    "list( d6.items())"
   ]
  },
  {
   "cell_type": "code",
   "execution_count": null,
   "id": "733803a6-8889-41c3-a573-e8e79aa183e8",
   "metadata": {},
   "outputs": [],
   "source": [
    "d6.pop(\"assignment\")"
   ]
  },
  {
   "cell_type": "code",
   "execution_count": null,
   "id": "9d8fd014-2ace-4398-afbd-b2968220c926",
   "metadata": {},
   "outputs": [],
   "source": [
    "d6"
   ]
  },
  {
   "cell_type": "code",
   "execution_count": 31,
   "id": "c5fdd862-6a83-4ed9-a970-7ca0bc90e34f",
   "metadata": {},
   "outputs": [
    {
     "name": "stdin",
     "output_type": "stream",
     "text": [
      "enter your marks 45\n"
     ]
    },
    {
     "name": "stdout",
     "output_type": "stream",
     "text": [
      "you will be the part of A2 batch \n"
     ]
    }
   ],
   "source": [
    "marks= int(input(\"enter your marks\") )\n",
    "\n",
    "if marks >=80 :\n",
    "    print(\"you will be a part of A0 batch\")\n",
    "elif marks >= 60 and marks <=80 :\n",
    "    print(\" you will be the part of A1 batch\")\n",
    "elif marks >= 40 and marks<=60:\n",
    "    print(\"you will be the part of A2 batch \")\n",
    "else :\n",
    "    print(\"you will be the part of A3 batch\")"
   ]
  },
  {
   "cell_type": "code",
   "execution_count": 33,
   "id": "15654d15-831f-4b47-b725-b93e8d76d632",
   "metadata": {},
   "outputs": [
    {
     "name": "stdin",
     "output_type": "stream",
     "text": [
      "enter your marks 45\n"
     ]
    }
   ],
   "source": [
    "marks= int( input(\"enter your marks\") ) ### input function read a string from standard input if we enter integer input it also take it s the string . so we have to compare integer value so we type cast into integer. ."
   ]
  },
  {
   "cell_type": "code",
   "execution_count": 34,
   "id": "d139256c-7061-4c06-8171-fce72de19ac8",
   "metadata": {},
   "outputs": [
    {
     "data": {
      "text/plain": [
       "int"
      ]
     },
     "execution_count": 34,
     "metadata": {},
     "output_type": "execute_result"
    }
   ],
   "source": [
    "type(marks)"
   ]
  },
  {
   "cell_type": "code",
   "execution_count": 14,
   "id": "12ae1200-cfbf-4b94-8cd1-50ee2534d9df",
   "metadata": {},
   "outputs": [
    {
     "name": "stdin",
     "output_type": "stream",
     "text": [
      "enter price 1200\n"
     ]
    },
    {
     "name": "stdout",
     "output_type": "stream",
     "text": [
      " i will not purchase\n",
      "its ok\n"
     ]
    }
   ],
   "source": [
    "price = int(input(\"enter price\"))\n",
    "if price>1000:\n",
    "    print(\" i will not purchase\")\n",
    "    if price>5000:\n",
    "        print(\"this is too much\")\n",
    "    elif price< 2000 :\n",
    "        print(\"its ok\")\n",
    "elif price < 1000:\n",
    "    print( \" i will purchase\")\n",
    "else :\n",
    "    print(\" not interested\")\n",
    "            \n",
    "            "
   ]
  },
  {
   "cell_type": "code",
   "execution_count": 15,
   "id": "f290f860-59cc-4bfd-94ad-01e04b945aac",
   "metadata": {},
   "outputs": [],
   "source": [
    "l=[1,2,3,4,5,6,7,8]"
   ]
  },
  {
   "cell_type": "code",
   "execution_count": 16,
   "id": "2b6b8efd-f4a7-46a3-ab82-9c67799527ea",
   "metadata": {},
   "outputs": [
    {
     "data": {
      "text/plain": [
       "2"
      ]
     },
     "execution_count": 16,
     "metadata": {},
     "output_type": "execute_result"
    }
   ],
   "source": [
    "l[0]+1"
   ]
  },
  {
   "cell_type": "code",
   "execution_count": 17,
   "id": "29cb3ed4-e170-4bb7-9110-666abcc7f48a",
   "metadata": {},
   "outputs": [],
   "source": [
    "l1 = []"
   ]
  },
  {
   "cell_type": "code",
   "execution_count": 18,
   "id": "d599c646-f4b4-44fb-a491-29832bb722a3",
   "metadata": {},
   "outputs": [],
   "source": [
    "l1.append(l[0]+1)"
   ]
  },
  {
   "cell_type": "code",
   "execution_count": 19,
   "id": "05b7ac94-b5b9-4bc7-b4d6-34b08ddce16e",
   "metadata": {},
   "outputs": [
    {
     "data": {
      "text/plain": [
       "[2]"
      ]
     },
     "execution_count": 19,
     "metadata": {},
     "output_type": "execute_result"
    }
   ],
   "source": [
    "l1"
   ]
  },
  {
   "cell_type": "code",
   "execution_count": 26,
   "id": "5cd2f5e8-fe68-432c-8cab-3bc289b18361",
   "metadata": {},
   "outputs": [
    {
     "name": "stdout",
     "output_type": "stream",
     "text": [
      "2\n",
      "3\n",
      "4\n",
      "5\n",
      "6\n",
      "7\n",
      "8\n",
      "9\n"
     ]
    }
   ],
   "source": [
    "l1= []\n",
    "for i in l :   ### i=tempopary variable for loop pop out 1 and store it into (i). like that it pop out all element of the iterable variable( list). \n",
    "    print(i+1)\n",
    "    l1.append(i+1)"
   ]
  },
  {
   "cell_type": "code",
   "execution_count": 27,
   "id": "18f6b0ff-46c2-485e-8c0b-2a6e0262ce4a",
   "metadata": {},
   "outputs": [
    {
     "data": {
      "text/plain": [
       "[2, 3, 4, 5, 6, 7, 8, 9]"
      ]
     },
     "execution_count": 27,
     "metadata": {},
     "output_type": "execute_result"
    }
   ],
   "source": [
    "l1"
   ]
  },
  {
   "cell_type": "code",
   "execution_count": 28,
   "id": "1ff4f47f-06a5-4160-9e67-42905af70cd7",
   "metadata": {},
   "outputs": [],
   "source": [
    "l = [ \"sudh\" , \"kumar\" , \"pwskills\" , \"corse\"]"
   ]
  },
  {
   "cell_type": "code",
   "execution_count": 29,
   "id": "ee6351e1-80ea-4a99-bd7e-0bd2185c62b2",
   "metadata": {},
   "outputs": [
    {
     "name": "stdout",
     "output_type": "stream",
     "text": [
      "sudh\n",
      "kumar\n",
      "pwskills\n",
      "corse\n"
     ]
    }
   ],
   "source": [
    "l1 =[]\n",
    "for i in l:\n",
    "    print(i)\n",
    "    l1.append( i.upper())\n",
    "    "
   ]
  },
  {
   "cell_type": "code",
   "execution_count": 30,
   "id": "164fc7d8-221a-4270-9da7-9ed5c76ec4ec",
   "metadata": {},
   "outputs": [
    {
     "data": {
      "text/plain": [
       "['SUDH', 'KUMAR', 'PWSKILLS', 'CORSE']"
      ]
     },
     "execution_count": 30,
     "metadata": {},
     "output_type": "execute_result"
    }
   ],
   "source": [
    "l1"
   ]
  },
  {
   "cell_type": "code",
   "execution_count": 31,
   "id": "e9a7e9a1-0e40-4813-965f-38545e48e6c6",
   "metadata": {},
   "outputs": [],
   "source": [
    "l = [1,2,3,4,4, \"sudh\",\"kumar\", 324,34.456, \"abc\"]"
   ]
  },
  {
   "cell_type": "code",
   "execution_count": 34,
   "id": "6973f00e-dadd-44e7-9489-bffcf315dd5d",
   "metadata": {},
   "outputs": [],
   "source": [
    "l1_num =[]\n",
    "l2_str=[]\n",
    "for i in l:\n",
    "    if type(i)== int or type(i)== float :\n",
    "        l1_num.append(i)\n",
    "    else : \n",
    "        l2_str.append(i)"
   ]
  },
  {
   "cell_type": "code",
   "execution_count": 35,
   "id": "cf4d0b82-3407-4361-91d6-ded4a5faea28",
   "metadata": {},
   "outputs": [
    {
     "data": {
      "text/plain": [
       "[1, 2, 3, 4, 4, 324, 34.456]"
      ]
     },
     "execution_count": 35,
     "metadata": {},
     "output_type": "execute_result"
    }
   ],
   "source": [
    "l1_num"
   ]
  },
  {
   "cell_type": "code",
   "execution_count": 36,
   "id": "024d293c-ec0e-402c-9b64-a5743064b121",
   "metadata": {},
   "outputs": [
    {
     "data": {
      "text/plain": [
       "['sudh', 'kumar', 'abc']"
      ]
     },
     "execution_count": 36,
     "metadata": {},
     "output_type": "execute_result"
    }
   ],
   "source": [
    "l2_str"
   ]
  },
  {
   "cell_type": "code",
   "execution_count": null,
   "id": "5d799127-4013-4864-9814-31e984879938",
   "metadata": {},
   "outputs": [],
   "source": []
  }
 ],
 "metadata": {
  "kernelspec": {
   "display_name": "Python 3 (ipykernel)",
   "language": "python",
   "name": "python3"
  },
  "language_info": {
   "codemirror_mode": {
    "name": "ipython",
    "version": 3
   },
   "file_extension": ".py",
   "mimetype": "text/x-python",
   "name": "python",
   "nbconvert_exporter": "python",
   "pygments_lexer": "ipython3",
   "version": "3.10.8"
  }
 },
 "nbformat": 4,
 "nbformat_minor": 5
}
